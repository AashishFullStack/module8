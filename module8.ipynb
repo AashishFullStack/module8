{
  "nbformat": 4,
  "nbformat_minor": 0,
  "metadata": {
    "colab": {
      "provenance": []
    },
    "kernelspec": {
      "name": "python3",
      "display_name": "Python 3"
    },
    "language_info": {
      "name": "python"
    }
  },
  "cells": [
    {
      "cell_type": "markdown",
      "source": [
        "4. Create a simple header that sticks to the top of a webpage upon scrolling."
      ],
      "metadata": {
        "id": "K1qjU82bPaHL"
      }
    },
    {
      "cell_type": "code",
      "source": [
        "<!DOCTYPE html>\n",
        "<html lang=\"en\">\n",
        "<head>\n",
        "    <meta charset=\"UTF-8\">\n",
        "    <meta name=\"viewport\" content=\"width=device-width, initial-scale=1.0\">\n",
        "    <title>Website</title>\n",
        "<style>\n",
        "body {\n",
        "    margin: 0;\n",
        "}\n",
        ".head {\n",
        "    position: sticky;\n",
        "    background-color: black;\n",
        "    color: white;\n",
        "    display: flex;\n",
        "    align-items: center;\n",
        "    top: 0;\n",
        "    padding: 10px 20px;\n",
        "    justify-content: space-between;\n",
        "}\n",
        ".logo {\n",
        "    font-family: 'Franklin Gothic Medium', 'Arial Narrow', Arial, sans-serif;\n",
        "    font-size: 20px;\n",
        "    font-weight: 50;\n",
        "}\n",
        ".top{\n",
        "    display: flex;\n",
        "    align-items: center;\n",
        "    gap: 20px;\n",
        "}\n",
        ".btn {\n",
        "    border-radius: 8px;\n",
        "    padding: 5px 10px;\n",
        "    border: 1px solid whitesmoke;\n",
        "    color: white;\n",
        "    background-color: transparent;\n",
        "}\n",
        ".top a {\n",
        "    color: white;\n",
        "    text-decoration: none;\n",
        "}\n",
        "</style>\n",
        "</head>\n",
        "<body>\n",
        "    <header class=\"head\">\n",
        "        <div class=\"logo\">LOGO</div>\n",
        "        <nav class=\"top\">\n",
        "            <a href=\"#\">Home</a>\n",
        "            <a href=\"#\">Pricing</a>\n",
        "            <a href=\"#\"> Contact</a>\n",
        "            <a href=\"#\">Terms and Condition </a>\n",
        "            <button class=\"btn\"> Get Started</button>\n",
        "        </nav>\n",
        "    </header>\n",
        "<section>\n",
        "    <div>\n",
        "        <h2>Heading 1</h2>\n",
        "        <p> Lorem ipsum dolor sit amet consectetur adipisicing elit. Modi nisi esse et minima libero ratione laboriosam exercitationem praesentium, sit excepturi enim architecto eaque, officiis beatae suscipit illo sed unde tenetur.</p>\n",
        "    </div>\n",
        "    <div>\n",
        "        <h2>Heading 1</h2>\n",
        "        <p> Lorem ipsum dolor sit amet consectetur adipisicing elit. Modi nisi esse et minima libero ratione laboriosam exercitationem praesentium, sit excepturi enim architecto eaque, officiis beatae suscipit illo sed unde tenetur.</p>\n",
        "    </div>\n",
        "    <div>\n",
        "        <h2>Heading 1</h2>\n",
        "        <p> Lorem ipsum dolor sit amet consectetur adipisicing elit. Modi nisi esse et minima libero ratione laboriosam exercitationem praesentium, sit excepturi enim architecto eaque, officiis beatae suscipit illo sed unde tenetur.</p>\n",
        "    </div>\n",
        "</section>\n",
        "</body>\n",
        "</html>"
      ],
      "metadata": {
        "id": "Y6wsea83P2S2"
      },
      "execution_count": null,
      "outputs": []
    },
    {
      "cell_type": "markdown",
      "source": [
        "2. Explain the difference between Absolute and Relative positioning."
      ],
      "metadata": {
        "id": "6qlWzJbnQAjc"
      }
    },
    {
      "cell_type": "markdown",
      "source": [
        "Relative positioning:\n",
        "\n",
        "- Relative to: the element’s normal position in the document flow.\n",
        "\n",
        "- The element still takes up space in the document layout as if it were in its normal position.\n",
        "\n",
        "- You can move it using top, right, bottom, and left, but it will move relative to where it would have been normally.\n",
        "\n",
        "- Useful when you want to \"nudge\" an element without affecting the layout around it much\n",
        "\n",
        "Absolute positioning:\n",
        "\n",
        "- Relative to: the nearest positioned ancestor (an ancestor with position set to relative, absolute, or fixed). If no such ancestor exists, it is positioned relative to the initial containing block (typically the <html> or <body>).\n",
        "\n",
        "- The element is removed from the normal document flow, so it does not take up space, and it won’t affect other elements.\n",
        "\n",
        "- You can precisely place it using top, right, bottom, and left."
      ],
      "metadata": {
        "id": "K_977FUVSgm3"
      }
    },
    {
      "cell_type": "markdown",
      "source": [
        "5. Explain the z-index, with a code example."
      ],
      "metadata": {
        "id": "jdh2PafcTG-_"
      }
    },
    {
      "cell_type": "markdown",
      "source": [
        "The z-index property controls the stacking order of elements on the z-axis (which is like depth — front to back). Elements with higher z-index values appear in front of those with lower values.It only works on elements with a position other than static (relative, absolute, fixed, or sticky)"
      ],
      "metadata": {
        "id": "7iD1dLt3TQ-l"
      }
    },
    {
      "cell_type": "code",
      "source": [
        "<style>\n",
        ".box {\n",
        "  width: 100px;\n",
        "  height: 100px;\n",
        "  position: absolute;\n",
        "}\n",
        "\n",
        ".red {\n",
        "  background: red;\n",
        "  top: 20px;\n",
        "  left: 20px;\n",
        "  z-index: 1;\n",
        "}\n",
        "\n",
        ".green {\n",
        "  background: green;\n",
        "  top: 40px;\n",
        "  left: 40px;\n",
        "  z-index: 2;\n",
        "}\n",
        "</style>\n",
        "\n",
        "<div class=\"box red\"> Box 1 </div>\n",
        "<div class=\"box green\"> Box 2 </div>\n"
      ],
      "metadata": {
        "id": "hWwK8BQsTrtL"
      },
      "execution_count": null,
      "outputs": []
    },
    {
      "cell_type": "markdown",
      "source": [
        "3. Create a card as shown in the picture below. (You can use CSS float property only for layout)."
      ],
      "metadata": {
        "id": "dJSQx_7te8S7"
      }
    },
    {
      "cell_type": "code",
      "source": [
        "<!DOCTYPE html>\n",
        "<html lang=\"en\">\n",
        "<head>\n",
        "    <meta charset=\"UTF-8\">\n",
        "    <meta name=\"viewport\" content=\"width=device-width, initial-scale=1.0\">\n",
        "    <title>Module 8</title>\n",
        "    <style>\n",
        "        body{\n",
        "            font-family: Arial, Helvetica, sans-serif;\n",
        "            margin: 20px;\n",
        "        }\n",
        "        .earth-card {\n",
        "            border: 1px solid black;\n",
        "            padding: 15px;\n",
        "            width: 80%;\n",
        "            margin: 0 auto;\n",
        "            overflow: hidden;\n",
        "        }\n",
        "        .earth {\n",
        "        float: left;\n",
        "        width: 70%;\n",
        "            }\n",
        "    .earth-img {\n",
        "float: right;\n",
        "width: 25%;\n",
        "    }\n",
        "        .earth img {\n",
        "            width: 100%;\n",
        "            height: auto;\n",
        "\n",
        "        }\n",
        "        .earth h2 {\n",
        "      margin-top: 0;\n",
        "      font-weight: bold;\n",
        "      font-size: 18px;\n",
        "    }\n",
        "    </style>\n",
        "</head>\n",
        "<body>\n",
        "    <section class=\"earth-card\">\n",
        "        <div class=\"earth\">\n",
        "            <h2>The Earth!!!</h2>\n",
        "            <p>Lorem ipsum dolor sit amet, consectetur adipisicing elit. Ullam nesciunt eligendi quidem unde, ipsa cupiditate veritatis perferendis odit sapiente. Vitae cupiditate illum, totam aliquid vel nam culpa dolorem magnam facere placeat eligendi nesciunt soluta earum at perferendis voluptatum delectus ea facilis ipsum a rem modi impedit officiis! Repellendus vero illum exercitationem itaque voluptates similique perferendis magni voluptatibus harum possimus soluta, sequi nulla quo facere nihil expedita in sunt explicabo blanditiis? Possimus enim doloribus, provident quod et eius unde a cupiditate dolor, repudiandae hic quo velit ipsam exercitationem? Iure explicabo, rerum aliquid omnis ex nulla voluptatem dolores culpa cupiditate cum veritatis.</p>\n",
        "            <div class=\"earth-img\">\n",
        "            <img src=\"fullstack.jpg\" alt=\"Earth\"> </div>\n",
        "        </div>\n",
        "    </section>\n",
        "</body>\n",
        "</html>"
      ],
      "metadata": {
        "id": "_GM9oGhXfQOj"
      },
      "execution_count": null,
      "outputs": []
    },
    {
      "cell_type": "markdown",
      "source": [],
      "metadata": {
        "id": "zfmEbbM7T0Sx"
      }
    }
  ]
}